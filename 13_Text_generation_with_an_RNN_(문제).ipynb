{
  "nbformat": 4,
  "nbformat_minor": 0,
  "metadata": {
    "colab": {
      "name": "13_Text generation with an RNN (문제).ipynb",
      "provenance": [],
      "collapsed_sections": [],
      "toc_visible": true,
      "include_colab_link": true
    },
    "kernelspec": {
      "name": "python3",
      "display_name": "Python 3"
    },
    "accelerator": "GPU"
  },
  "cells": [
    {
      "cell_type": "markdown",
      "metadata": {
        "id": "view-in-github",
        "colab_type": "text"
      },
      "source": [
        "<a href=\"https://colab.research.google.com/github/Yphy/ml_practice/blob/master/13_Text_generation_with_an_RNN_(%EB%AC%B8%EC%A0%9C).ipynb\" target=\"_parent\"><img src=\"https://colab.research.google.com/assets/colab-badge.svg\" alt=\"Open In Colab\"/></a>"
      ]
    },
    {
      "cell_type": "markdown",
      "metadata": {
        "id": "qV40U7mLZkN4",
        "colab_type": "text"
      },
      "source": [
        "# Tensorflow 실습 : RNN을 이용한 텍스트 생성"
      ]
    },
    {
      "cell_type": "markdown",
      "metadata": {
        "id": "jcJihGy4bqCW",
        "colab_type": "text"
      },
      "source": [
        "- 학습 속도를 위해, GPU를 사용하기를 권장"
      ]
    },
    {
      "cell_type": "code",
      "metadata": {
        "id": "KAgXBP8LtArB",
        "colab_type": "code",
        "colab": {}
      },
      "source": [
        "import tensorflow as tf\n",
        "\n",
        "import numpy as np\n",
        "import os\n",
        "import time\n",
        "import matplotlib.pyplot as plt\n",
        "\n",
        "# history를 그래프로 그리기 위해 사용\n",
        "def plot_graphs(history, metric):\n",
        "  plt.plot(history.history[metric])\n",
        "  plt.plot(history.history['val_'+metric], '')\n",
        "  plt.xlabel(\"Epochs\")\n",
        "  plt.ylabel(metric)\n",
        "  plt.legend([metric, 'val_'+metric])\n",
        "  plt.show()"
      ],
      "execution_count": 1,
      "outputs": []
    },
    {
      "cell_type": "markdown",
      "metadata": {
        "id": "Jx6UkuneSmBU",
        "colab_type": "text"
      },
      "source": [
        "## Shakespeare's writing 데이터셋 "
      ]
    },
    {
      "cell_type": "markdown",
      "metadata": {
        "id": "h_QaFCx_juuI",
        "colab_type": "text"
      },
      "source": [
        "- 이 데이터셋은 Shakespeare의 writing을 모아놓은 데이터셋\n",
        "- 본 실습에서는 해당 데이터셋을 이용하여, character level language model을 학습하고 이를 텍스트 생성에 활용하고자 함\n"
      ]
    },
    {
      "cell_type": "markdown",
      "metadata": {
        "colab_type": "text",
        "id": "EHDoRoc5PKWz"
      },
      "source": [
        "### Download the Shakespeare dataset"
      ]
    },
    {
      "cell_type": "code",
      "metadata": {
        "colab_type": "code",
        "id": "pD_55cOxLkAb",
        "colab": {
          "base_uri": "https://localhost:8080/",
          "height": 50
        },
        "outputId": "2e88ac7d-f36e-4da0-f44c-e382a857cb19"
      },
      "source": [
        "path_to_file = tf.keras.utils.get_file('shakespeare.txt', 'https://storage.googleapis.com/download.tensorflow.org/data/shakespeare.txt')"
      ],
      "execution_count": 2,
      "outputs": [
        {
          "output_type": "stream",
          "text": [
            "Downloading data from https://storage.googleapis.com/download.tensorflow.org/data/shakespeare.txt\n",
            "1122304/1115394 [==============================] - 0s 0us/step\n"
          ],
          "name": "stdout"
        }
      ]
    },
    {
      "cell_type": "markdown",
      "metadata": {
        "colab_type": "text",
        "id": "UHjdCjDuSvX_"
      },
      "source": [
        "### Read the data\n",
        "\n",
        "먼저 다운로드한 파일을 살펴보면, "
      ]
    },
    {
      "cell_type": "code",
      "metadata": {
        "colab_type": "code",
        "id": "aavnuByVymwK",
        "colab": {
          "base_uri": "https://localhost:8080/",
          "height": 34
        },
        "outputId": "2a2bbec3-0826-4af7-b9e6-eb1ce5470946"
      },
      "source": [
        "# Read, then decode for py2 compat.\n",
        "text = open(path_to_file, 'rb').read().decode(encoding='utf-8')\n",
        "# length of text is the number of characters in it\n",
        "print ('Length of text: {} characters'.format(len(text)))"
      ],
      "execution_count": 3,
      "outputs": [
        {
          "output_type": "stream",
          "text": [
            "Length of text: 1115394 characters\n"
          ],
          "name": "stdout"
        }
      ]
    },
    {
      "cell_type": "code",
      "metadata": {
        "colab_type": "code",
        "id": "Duhg9NrUymwO",
        "colab": {
          "base_uri": "https://localhost:8080/",
          "height": 269
        },
        "outputId": "083abae5-cd39-4e15-e550-1382e159d0bd"
      },
      "source": [
        "# Take a look at the first 250 characters in text\n",
        "print(text[:250])"
      ],
      "execution_count": 4,
      "outputs": [
        {
          "output_type": "stream",
          "text": [
            "First Citizen:\n",
            "Before we proceed any further, hear me speak.\n",
            "\n",
            "All:\n",
            "Speak, speak.\n",
            "\n",
            "First Citizen:\n",
            "You are all resolved rather to die than to famish?\n",
            "\n",
            "All:\n",
            "Resolved. resolved.\n",
            "\n",
            "First Citizen:\n",
            "First, you know Caius Marcius is chief enemy to the people.\n",
            "\n"
          ],
          "name": "stdout"
        }
      ]
    },
    {
      "cell_type": "code",
      "metadata": {
        "colab_type": "code",
        "id": "IlCgQBRVymwR",
        "colab": {
          "base_uri": "https://localhost:8080/",
          "height": 34
        },
        "outputId": "71adb085-c72d-48c3-a257-67a4e60f9920"
      },
      "source": [
        "# The unique characters in the file\n",
        "vocab = sorted(set(text)) #unique한 알파멧이나 문자\n",
        "print ('{} unique characters'.format(len(vocab)))"
      ],
      "execution_count": 6,
      "outputs": [
        {
          "output_type": "stream",
          "text": [
            "65 unique characters\n"
          ],
          "name": "stdout"
        }
      ]
    },
    {
      "cell_type": "markdown",
      "metadata": {
        "colab_type": "text",
        "id": "LFjSVAlWzf-N"
      },
      "source": [
        "### Vectorize the text\n",
        "\n",
        "- 각각의 character를 정수(integer)의 index로 표현하기 위해, 두개의 look-up table을 정의함\n",
        "  - character => 숫자\n",
        "  - 숫자 => character"
      ]
    },
    {
      "cell_type": "code",
      "metadata": {
        "colab_type": "code",
        "id": "IalZLbvOzf-F",
        "colab": {}
      },
      "source": [
        "# 고유 문자에서 인덱스로 매핑 생성\n",
        "char2idx = {u:i for i, u in enumerate(vocab)}\n",
        "idx2char = np.array(vocab)\n",
        "\n",
        "text_as_int = np.array([char2idx[c] for c in text])"
      ],
      "execution_count": 8,
      "outputs": []
    },
    {
      "cell_type": "markdown",
      "metadata": {
        "colab_type": "text",
        "id": "tZfqhkYCymwX"
      },
      "source": [
        "- 이제 각 character와 숫자를 encode, decode할 수 있는 look-up table이 준비되었음"
      ]
    },
    {
      "cell_type": "code",
      "metadata": {
        "id": "rY1sI31HmvJu",
        "colab_type": "code",
        "colab": {
          "base_uri": "https://localhost:8080/",
          "height": 162
        },
        "outputId": "580165bc-dcf4-4189-83e4-39417534410a"
      },
      "source": [
        "char2idx"
      ],
      "execution_count": 11,
      "outputs": [
        {
          "output_type": "error",
          "ename": "AttributeError",
          "evalue": "ignored",
          "traceback": [
            "\u001b[0;31m---------------------------------------------------------------------------\u001b[0m",
            "\u001b[0;31mAttributeError\u001b[0m                            Traceback (most recent call last)",
            "\u001b[0;32m<ipython-input-11-1a8b0f315a07>\u001b[0m in \u001b[0;36m<module>\u001b[0;34m()\u001b[0m\n\u001b[0;32m----> 1\u001b[0;31m \u001b[0mchar2idx\u001b[0m\u001b[0;34m.\u001b[0m\u001b[0mhead\u001b[0m\u001b[0;34m(\u001b[0m\u001b[0;34m)\u001b[0m\u001b[0;34m\u001b[0m\u001b[0;34m\u001b[0m\u001b[0m\n\u001b[0m",
            "\u001b[0;31mAttributeError\u001b[0m: 'dict' object has no attribute 'head'"
          ]
        }
      ]
    },
    {
      "cell_type": "code",
      "metadata": {
        "colab_type": "code",
        "id": "l1VKcQHcymwb",
        "colab": {
          "base_uri": "https://localhost:8080/",
          "height": 34
        },
        "outputId": "58fc3a52-c6e5-4dcb-f64a-191bebaf34f6"
      },
      "source": [
        "# 텍스트에서 처음 13개의 문자가 숫자로 어떻게 매핑되었는지를 보여줍니다\n",
        "print ('{} ---- 문자들이 다음의 정수로 매핑되었습니다 ---- > {}'.format(repr(text[:13]), text_as_int[:13]))"
      ],
      "execution_count": 12,
      "outputs": [
        {
          "output_type": "stream",
          "text": [
            "'First Citizen' ---- 문자들이 다음의 정수로 매핑되었습니다 ---- > [18 47 56 57 58  1 15 47 58 47 64 43 52]\n"
          ],
          "name": "stdout"
        }
      ]
    },
    {
      "cell_type": "markdown",
      "metadata": {
        "colab_type": "text",
        "id": "bbmsf23Bymwe"
      },
      "source": [
        "### language model 학습을 위한 input과 target 만들기\n",
        "- language model을 학습하기 위해서는 첫번째 부터 t번째 step의 input sequence를 알고 있을 때, t+1번째 step에는 어떤 token이 나오는지에 대한 정답이 필요\n",
        "- 이를 위해, 먼저 전체 텍스트를 일정한 character 개수 간격으로 나누어서 input sequence를 구성\n",
        "- 각 input sequence에서 target을 만드는 방법은 input sequence에서 오른쪽으로 한칸씩 이동시키는 것\n",
        "  - ex) `Hello` => input : `Hell` , target : `ello`\n"
      ]
    },
    {
      "cell_type": "code",
      "metadata": {
        "id": "sWF6GMrUqFlZ",
        "colab_type": "code",
        "colab": {
          "base_uri": "https://localhost:8080/",
          "height": 118
        },
        "outputId": "635d9413-21b8-463d-8cd4-2bfa7fab9a4e"
      },
      "source": [
        "# 단일 입력에 대해 원하는 문장의 최대 길이\n",
        "seq_length = 100\n",
        "examples_per_epoch = len(text)//seq_length #batch size?\n",
        "\n",
        "# 훈련 샘플/타깃 만들기\n",
        "char_dataset = tf.data.Dataset.from_tensor_slices(text_as_int)\n",
        "\n",
        "for i in char_dataset.take(5):\n",
        "  print(idx2char[i.numpy()])\n",
        "\n",
        "print('텍스트 총 글자수 : ', len(text_as_int))"
      ],
      "execution_count": 14,
      "outputs": [
        {
          "output_type": "stream",
          "text": [
            "F\n",
            "i\n",
            "r\n",
            "s\n",
            "t\n",
            "텍스트 총 글자수 :  1115394\n"
          ],
          "name": "stdout"
        }
      ]
    },
    {
      "cell_type": "code",
      "metadata": {
        "id": "Qu4k1Cv3qQy5",
        "colab_type": "code",
        "colab": {
          "base_uri": "https://localhost:8080/",
          "height": 101
        },
        "outputId": "fdf8c8c9-757f-42a1-dacf-75b837dd7c2e"
      },
      "source": [
        "# batch를 이용하여 앞에서부터 순서대로, 총 101개의 문자를 하나의 문장으로 만들어 줌\n",
        "# drop_remainder : 마지막 배치는 101개보다 작은 수로 문장이 만들어지므로 제거함\n",
        "sequences = char_dataset.batch(seq_length+1, drop_remainder=True)\n",
        "\n",
        "for item in sequences.take(5):\n",
        "  print(repr(''.join(idx2char[item.numpy()])))"
      ],
      "execution_count": 15,
      "outputs": [
        {
          "output_type": "stream",
          "text": [
            "'First Citizen:\\nBefore we proceed any further, hear me speak.\\n\\nAll:\\nSpeak, speak.\\n\\nFirst Citizen:\\nYou '\n",
            "'are all resolved rather to die than to famish?\\n\\nAll:\\nResolved. resolved.\\n\\nFirst Citizen:\\nFirst, you k'\n",
            "\"now Caius Marcius is chief enemy to the people.\\n\\nAll:\\nWe know't, we know't.\\n\\nFirst Citizen:\\nLet us ki\"\n",
            "\"ll him, and we'll have corn at our own price.\\nIs't a verdict?\\n\\nAll:\\nNo more talking on't; let it be d\"\n",
            "'one: away, away!\\n\\nSecond Citizen:\\nOne word, good citizens.\\n\\nFirst Citizen:\\nWe are accounted poor citi'\n"
          ],
          "name": "stdout"
        }
      ]
    },
    {
      "cell_type": "markdown",
      "metadata": {
        "id": "FYCiiyCJq7tN",
        "colab_type": "text"
      },
      "source": [
        "- 각각의 101개의 글자로 이루어진 문장을 길이 100의 input sequence와 길이 100의 target sequence로 변환"
      ]
    },
    {
      "cell_type": "code",
      "metadata": {
        "id": "-u1CsO5SrHIJ",
        "colab_type": "code",
        "colab": {}
      },
      "source": [
        "def split_input_target(chunk):\n",
        "    input_text = chunk[:-1] #input은 마지막 하나를 제거\n",
        "    target_text = chunk[1:] #target은 맨앞의 하나를 제거\n",
        "    return input_text, target_text\n",
        "\n",
        "dataset = sequences.map(split_input_target) #모든 데이터에 대해 적용"
      ],
      "execution_count": 16,
      "outputs": []
    },
    {
      "cell_type": "code",
      "metadata": {
        "id": "TBGewfxFrL87",
        "colab_type": "code",
        "colab": {
          "base_uri": "https://localhost:8080/",
          "height": 50
        },
        "outputId": "dfebfc38-4e7c-4498-86c4-c4b4a155cbee"
      },
      "source": [
        "# input과 target 예시\n",
        "for input_example, target_example in  dataset.take(1):\n",
        "  print ('입력 데이터: ', repr(''.join(idx2char[input_example.numpy()])))\n",
        "  print ('타깃 데이터: ', repr(''.join(idx2char[target_example.numpy()])))"
      ],
      "execution_count": 17,
      "outputs": [
        {
          "output_type": "stream",
          "text": [
            "입력 데이터:  'First Citizen:\\nBefore we proceed any further, hear me speak.\\n\\nAll:\\nSpeak, speak.\\n\\nFirst Citizen:\\nYou'\n",
            "타깃 데이터:  'irst Citizen:\\nBefore we proceed any further, hear me speak.\\n\\nAll:\\nSpeak, speak.\\n\\nFirst Citizen:\\nYou '\n"
          ],
          "name": "stdout"
        }
      ]
    },
    {
      "cell_type": "markdown",
      "metadata": {
        "id": "xaV_LU4frggf",
        "colab_type": "text"
      },
      "source": [
        "### 모델 학습을 위해, mini batch로 구성\n"
      ]
    },
    {
      "cell_type": "markdown",
      "metadata": {
        "id": "nL5UR4aAsC65",
        "colab_type": "text"
      },
      "source": [
        "- 이전에 사용한 batch는 문장으로 나누기 위해 사용한 것이므로, 실제 mini batch로 나누는 과정을 적용\n",
        "- 실험 과정을 간단히 하기 위해, 학습 데이터셋과 validation 데이터셋으로만 분리"
      ]
    },
    {
      "cell_type": "code",
      "metadata": {
        "id": "pljHigjhsAux",
        "colab_type": "code",
        "colab": {
          "base_uri": "https://localhost:8080/",
          "height": 67
        },
        "outputId": "281fde1a-4fc2-4425-9cb8-29f6ecbafaf0"
      },
      "source": [
        "BATCH_SIZE = 64\n",
        "BUFFER_SIZE = 10000\n",
        "\n",
        "train_dataset = dataset.take(examples_per_epoch // 4 * 3)\n",
        "valid_dataset = dataset.skip(examples_per_epoch // 4 * 3)\n",
        "\n",
        "train_dataset = train_dataset.shuffle(BUFFER_SIZE).batch(BATCH_SIZE)\n",
        "valid_dataset = valid_dataset.batch(BATCH_SIZE)\n",
        "\n",
        "print(train_dataset)\n",
        "print(len(list(train_dataset))) #3:1 정도\n",
        "print(len(list(valid_dataset)))"
      ],
      "execution_count": 18,
      "outputs": [
        {
          "output_type": "stream",
          "text": [
            "<BatchDataset shapes: ((None, 100), (None, 100)), types: (tf.int64, tf.int64)>\n",
            "131\n",
            "42\n"
          ],
          "name": "stdout"
        }
      ]
    },
    {
      "cell_type": "markdown",
      "metadata": {
        "id": "DNGDjZ5stz37",
        "colab_type": "text"
      },
      "source": [
        "## RNN 모델을 이용한 텍스트 생성"
      ]
    },
    {
      "cell_type": "markdown",
      "metadata": {
        "id": "K3lBBFyMTblr",
        "colab_type": "text"
      },
      "source": [
        "### RNN 모델\n",
        "- embedding layer, LSTM, Dense layer로 구성\n",
        "  - input에 padding이 없으므로, masking하지 않음\n",
        "  - 모든 time step에 대해, 다음 time step의 target을 맞추도록 학습하기 위해 return_sequence=True\n",
        "  - 마지막 dense layer는 다음 time step의 글자가 무엇인지 맞추어야 하므로, vocab size에 대해 logit 값을 계산"
      ]
    },
    {
      "cell_type": "code",
      "metadata": {
        "id": "DtBVc8MzTayj",
        "colab_type": "code",
        "colab": {
          "base_uri": "https://localhost:8080/",
          "height": 252
        },
        "outputId": "6b34f568-207e-4ca9-f95c-02baa4dd8c31"
      },
      "source": [
        "# 문자로 된 어휘 사전의 크기\n",
        "vocab_size = len(vocab)\n",
        "\n",
        "# 임베딩 차원\n",
        "embedding_dim = 128\n",
        "\n",
        "# RNN 유닛(unit) 개수\n",
        "rnn_units = 128\n",
        "\n",
        "model = tf.keras.Sequential([\n",
        "    tf.keras.layers.Embedding(input_dim=vocab_size, output_dim=embedding_dim),\n",
        "    tf.keras.layers.GRU(rnn_units, return_sequences=True),\n",
        "    tf.keras.layers.Dense(vocab_size)\n",
        "])\n",
        "\n",
        "model.summary()"
      ],
      "execution_count": 19,
      "outputs": [
        {
          "output_type": "stream",
          "text": [
            "Model: \"sequential\"\n",
            "_________________________________________________________________\n",
            "Layer (type)                 Output Shape              Param #   \n",
            "=================================================================\n",
            "embedding (Embedding)        (None, None, 128)         8320      \n",
            "_________________________________________________________________\n",
            "gru (GRU)                    (None, None, 128)         99072     \n",
            "_________________________________________________________________\n",
            "dense (Dense)                (None, None, 65)          8385      \n",
            "=================================================================\n",
            "Total params: 115,777\n",
            "Trainable params: 115,777\n",
            "Non-trainable params: 0\n",
            "_________________________________________________________________\n"
          ],
          "name": "stdout"
        }
      ]
    },
    {
      "cell_type": "markdown",
      "metadata": {
        "id": "iT89E-R0vo5n",
        "colab_type": "text"
      },
      "source": [
        "![모델을 통과하는 데이터의 사진](https://tensorflow.org/tutorials/text/images/text_generation_training.png)"
      ]
    },
    {
      "cell_type": "markdown",
      "metadata": {
        "id": "hA9BpHdbv9Qc",
        "colab_type": "text"
      },
      "source": [
        "### 학습하기 전 모델 사용"
      ]
    },
    {
      "cell_type": "code",
      "metadata": {
        "colab_type": "code",
        "id": "C-_70kKAPrPU",
        "colab": {
          "base_uri": "https://localhost:8080/",
          "height": 34
        },
        "outputId": "dd80d49c-1103-43ff-da7d-4a8305c5c846"
      },
      "source": [
        "for input_example_batch, target_example_batch in train_dataset.take(1):\n",
        "  example_batch_predictions = model(input_example_batch)\n",
        "  print(example_batch_predictions.shape, \"# (배치 크기, 시퀀스 길이, 어휘 사전 크기)\")"
      ],
      "execution_count": 20,
      "outputs": [
        {
          "output_type": "stream",
          "text": [
            "(64, 100, 65) # (배치 크기, 시퀀스 길이, 어휘 사전 크기)\n"
          ],
          "name": "stdout"
        }
      ]
    },
    {
      "cell_type": "markdown",
      "metadata": {
        "id": "sUirbA-fT2Mi",
        "colab_type": "text"
      },
      "source": [
        "### 옵티마이저(optimizer), 손실 함수, 평가 metric 선택"
      ]
    },
    {
      "cell_type": "code",
      "metadata": {
        "id": "QOB_5E7vUChh",
        "colab_type": "code",
        "colab": {}
      },
      "source": [
        "# multi-label classification과 동일하므로, cross entropy loss 이용\n",
        "# 마지막 dense layer에 sigmoid activation이 없으므로 from_logits=True\n",
        "model.compile(loss=tf.keras.losses.SparseCategoricalCrossentropy(from_logits=True),\n",
        "              optimizer=tf.keras.optimizers.Adam(),\n",
        "              metrics=['accuracy'])"
      ],
      "execution_count": 21,
      "outputs": []
    },
    {
      "cell_type": "markdown",
      "metadata": {
        "id": "C0Bbjb6UbMn6",
        "colab_type": "text"
      },
      "source": [
        "###모델 학습 \n",
        "- 여기서는 model.fit을 이용하면서, 매번 epoch이 끝날때마다 체크포인트(모델의 파라마터)를 저장하는 방법을 다뤄보려고 함\n",
        "  - tf.keras.callbacks.ModelCheckpoint"
      ]
    },
    {
      "cell_type": "code",
      "metadata": {
        "id": "A5OK_bjQyxle",
        "colab_type": "code",
        "colab": {}
      },
      "source": [
        "# 체크포인트가 저장될 디렉토리\n",
        "checkpoint_dir = './training_checkpoints'\n",
        "\n",
        "# 체크포인트 파일 이름\n",
        "checkpoint_prefix = os.path.join(checkpoint_dir, \"ckpt_{epoch}\")\n",
        "\n",
        "# model.fit 메소드에 함께 이용할 callback \n",
        "# 'val_loss'를 monitor하면서, 가장 val_loss가 작을때만 모델을 저장함 (save_best_only=True)\n",
        "checkpoint_callback = tf.keras.callbacks.ModelCheckpoint(\n",
        "    filepath=checkpoint_prefix, \n",
        "    save_weights_only=True, \n",
        "    monitor='val_loss',\n",
        "    save_best_only=True) #val_loss 가 최소일 때가 best로 파악해 저장"
      ],
      "execution_count": 22,
      "outputs": []
    },
    {
      "cell_type": "code",
      "metadata": {
        "id": "IMDUss0KbQFy",
        "colab_type": "code",
        "colab": {
          "base_uri": "https://localhost:8080/",
          "height": 689
        },
        "outputId": "fcdd9201-e161-43a2-c605-86289edc174c"
      },
      "source": [
        "history = model.fit(train_dataset, epochs=20,\n",
        "                    validation_data=valid_dataset,\n",
        "                    callbacks=[checkpoint_callback])\n",
        "                    "
      ],
      "execution_count": 23,
      "outputs": [
        {
          "output_type": "stream",
          "text": [
            "Epoch 1/20\n",
            "131/131 [==============================] - 6s 48ms/step - loss: 3.0442 - accuracy: 0.2198 - val_loss: 2.5135 - val_accuracy: 0.2917\n",
            "Epoch 2/20\n",
            "131/131 [==============================] - 6s 46ms/step - loss: 2.3449 - accuracy: 0.3339 - val_loss: 2.2697 - val_accuracy: 0.3491\n",
            "Epoch 3/20\n",
            "131/131 [==============================] - 6s 45ms/step - loss: 2.1505 - accuracy: 0.3805 - val_loss: 2.1315 - val_accuracy: 0.3792\n",
            "Epoch 4/20\n",
            "131/131 [==============================] - 6s 45ms/step - loss: 2.0090 - accuracy: 0.4153 - val_loss: 2.0418 - val_accuracy: 0.4021\n",
            "Epoch 5/20\n",
            "131/131 [==============================] - 6s 45ms/step - loss: 1.9030 - accuracy: 0.4429 - val_loss: 1.9785 - val_accuracy: 0.4196\n",
            "Epoch 6/20\n",
            "131/131 [==============================] - 6s 45ms/step - loss: 1.8219 - accuracy: 0.4651 - val_loss: 1.9350 - val_accuracy: 0.4344\n",
            "Epoch 7/20\n",
            "131/131 [==============================] - 6s 45ms/step - loss: 1.7605 - accuracy: 0.4822 - val_loss: 1.9005 - val_accuracy: 0.4450\n",
            "Epoch 8/20\n",
            "131/131 [==============================] - 6s 45ms/step - loss: 1.7130 - accuracy: 0.4942 - val_loss: 1.8757 - val_accuracy: 0.4536\n",
            "Epoch 9/20\n",
            "131/131 [==============================] - 6s 45ms/step - loss: 1.6749 - accuracy: 0.5038 - val_loss: 1.8574 - val_accuracy: 0.4577\n",
            "Epoch 10/20\n",
            "131/131 [==============================] - 6s 45ms/step - loss: 1.6441 - accuracy: 0.5113 - val_loss: 1.8402 - val_accuracy: 0.4655\n",
            "Epoch 11/20\n",
            "131/131 [==============================] - 6s 45ms/step - loss: 1.6187 - accuracy: 0.5185 - val_loss: 1.8296 - val_accuracy: 0.4692\n",
            "Epoch 12/20\n",
            "131/131 [==============================] - 6s 45ms/step - loss: 1.5966 - accuracy: 0.5244 - val_loss: 1.8167 - val_accuracy: 0.4735\n",
            "Epoch 13/20\n",
            "131/131 [==============================] - 6s 45ms/step - loss: 1.5781 - accuracy: 0.5292 - val_loss: 1.8086 - val_accuracy: 0.4760\n",
            "Epoch 14/20\n",
            "131/131 [==============================] - 6s 45ms/step - loss: 1.5620 - accuracy: 0.5325 - val_loss: 1.8032 - val_accuracy: 0.4798\n",
            "Epoch 15/20\n",
            "131/131 [==============================] - 6s 45ms/step - loss: 1.5481 - accuracy: 0.5361 - val_loss: 1.7984 - val_accuracy: 0.4797\n",
            "Epoch 16/20\n",
            "131/131 [==============================] - 6s 45ms/step - loss: 1.5356 - accuracy: 0.5388 - val_loss: 1.7936 - val_accuracy: 0.4807\n",
            "Epoch 17/20\n",
            "131/131 [==============================] - 6s 45ms/step - loss: 1.5246 - accuracy: 0.5412 - val_loss: 1.7872 - val_accuracy: 0.4832\n",
            "Epoch 18/20\n",
            "131/131 [==============================] - 6s 45ms/step - loss: 1.5146 - accuracy: 0.5439 - val_loss: 1.7827 - val_accuracy: 0.4864\n",
            "Epoch 19/20\n",
            "131/131 [==============================] - 6s 45ms/step - loss: 1.5057 - accuracy: 0.5461 - val_loss: 1.7796 - val_accuracy: 0.4875\n",
            "Epoch 20/20\n",
            "131/131 [==============================] - 6s 45ms/step - loss: 1.4974 - accuracy: 0.5482 - val_loss: 1.7751 - val_accuracy: 0.4879\n"
          ],
          "name": "stdout"
        }
      ]
    },
    {
      "cell_type": "code",
      "metadata": {
        "id": "IjXM_olonKvZ",
        "colab_type": "code",
        "colab": {
          "base_uri": "https://localhost:8080/",
          "height": 541
        },
        "outputId": "0f8ae13d-2c68-48c6-ff1a-a450e3c1891e"
      },
      "source": [
        "# 그래프 그리기\n",
        "plot_graphs(history, 'accuracy')\n",
        "plot_graphs(history, 'loss')"
      ],
      "execution_count": 24,
      "outputs": [
        {
          "output_type": "display_data",
          "data": {
            "image/png": "[encoded data removed]",
            "text/plain": [
              "<Figure size 432x288 with 1 Axes>"
            ]
          },
          "metadata": {
            "tags": [],
            "needs_background": "light"
          }
        },
        {
          "output_type": "display_data",
          "data": {
            "image/png": "[encoded data removed]",
            "text/plain": [
              "<Figure size 432x288 with 1 Axes>"
            ]
          },
          "metadata": {
            "tags": [],
            "needs_background": "light"
          }
        }
      ]
    },
    {
      "cell_type": "markdown",
      "metadata": {
        "id": "9duT_TSAbZIR",
        "colab_type": "text"
      },
      "source": [
        "### Best model 복원"
      ]
    },
    {
      "cell_type": "markdown",
      "metadata": {
        "id": "wrI-II8l3RTz",
        "colab_type": "text"
      },
      "source": [
        "- validation loss를 기준으로 best 모델만 저장했으므로, 마지막에 저장된 모델이 최종 Best 모델"
      ]
    },
    {
      "cell_type": "code",
      "metadata": {
        "id": "5R8mCWCb3kxk",
        "colab_type": "code",
        "colab": {
          "base_uri": "https://localhost:8080/",
          "height": 50
        },
        "outputId": "aa711881-bda8-4dbf-9ff5-e49eb382de14"
      },
      "source": [
        "print(tf.train.latest_checkpoint(checkpoint_dir))\n",
        "model.load_weights(tf.train.latest_checkpoint(checkpoint_dir))"
      ],
      "execution_count": 25,
      "outputs": [
        {
          "output_type": "stream",
          "text": [
            "./training_checkpoints/ckpt_20\n"
          ],
          "name": "stdout"
        },
        {
          "output_type": "execute_result",
          "data": {
            "text/plain": [
              "<tensorflow.python.training.tracking.util.CheckpointLoadStatus at 0x7f01b9dd7ba8>"
            ]
          },
          "metadata": {
            "tags": []
          },
          "execution_count": 25
        }
      ]
    },
    {
      "cell_type": "markdown",
      "metadata": {
        "id": "M--byf6EdU7R",
        "colab_type": "text"
      },
      "source": [
        "### 학습된 모델 활용"
      ]
    },
    {
      "cell_type": "markdown",
      "metadata": {
        "colab_type": "text",
        "id": "DjGz1tDkzf-u"
      },
      "source": [
        "학습된 모델을 이용하여 텍스트를 생성하려고 함\n",
        "\n",
        "* 시작 문자열 선택과 순환 신경망 상태를 초기화하고 생성할 문자 수를 설정\n",
        "\n",
        "* 시작 문자열과 순환 신경망 상태를 사용하여 다음 문자를 예측\n",
        "\n",
        "* 다음, `tf.random.categorical`을 사용하여 output logit값을 바탕으로 랜덤 샘플링\n",
        "\n",
        "* 이 예측된 문자를 모델의 다음 입력으로 활용\n",
        "\n",
        "* 하나의 token을 계속 추가하는 방식으로 autoregressive 하게 샘플링하는 방법을 사용함\n",
        "\n",
        "* 이를 통해, 길이가 긴 text를 생성하는 것도 가능함\n",
        "\n",
        "![텍스트를 생성하기 위해 모델의 출력이 입력으로 피드백](https://tensorflow.org/tutorials/text/images/text_generation_sampling.png)\n",
        "\n",
        "- 생성된 텍스트를 보면 모델이 언제 대문자로 나타나고, 절을 만들고 셰익스피어와 유사한 어휘를 가져오는지 알 수 있음\n",
        "- 그러나 훈련 Epoch이 적은 관계로 논리적인 문장을 형성하는 것은 훈련되지 않음"
      ]
    },
    {
      "cell_type": "code",
      "metadata": {
        "colab_type": "code",
        "id": "WvuwZBX5Ogfd",
        "colab": {}
      },
      "source": [
        "def generate_text(model, start_string, temperature=1.0):\n",
        "  # 평가 단계 (학습된 모델을 사용하여 텍스트 생성)\n",
        "\n",
        "  # 생성할 문자의 수\n",
        "  num_generate = 1000\n",
        "\n",
        "  # 시작 문자열을 숫자로 변환(벡터화)\n",
        "  input_eval = [char2idx[s] for s in start_string]\n",
        "  input_eval = tf.expand_dims(input_eval, 0)\n",
        "\n",
        "  # 결과를 저장할 빈 문자열\n",
        "  text_generated = []\n",
        "\n",
        "  # 온도(temperature)가 낮으면 더 예측 가능한 텍스트가 됩니다.\n",
        "  # 온도가 높으면 더 의외의 텍스트가 됩니다.\n",
        "  # 최적의 세팅을 찾기 위한 실험\n",
        "  model.reset_states()\n",
        "  for i in range(num_generate):\n",
        "      predictions = model(input_eval)\n",
        "      # 배치 차원 제거\n",
        "      predictions = tf.squeeze(predictions, 0)\n",
        "\n",
        "      # 범주형 분포를 사용하여 모델에서 리턴한 단어 샘플링 (logit 값에 따라 샘플링)\n",
        "      predictions = predictions / temperature\n",
        "      # sample된 token들 중 마지막 token만 선택\n",
        "      predicted_id = tf.random.categorical(predictions, num_samples=1)[-1,0].numpy()\n",
        "\n",
        "      # 예측된 단어를 다음 입력으로 모델에 전달\n",
        "      # 이전 은닉 상태와 함께\n",
        "      input_eval = tf.expand_dims([predicted_id], 0)\n",
        "\n",
        "      text_generated.append(idx2char[predicted_id])\n",
        "\n",
        "  return (start_string + ''.join(text_generated))"
      ],
      "execution_count": 26,
      "outputs": []
    },
    {
      "cell_type": "code",
      "metadata": {
        "colab_type": "code",
        "id": "ktovv0RFhrkn",
        "colab": {
          "base_uri": "https://localhost:8080/",
          "height": 504
        },
        "outputId": "e42fb905-8a8c-4605-d435-6af1b4f5ca4f"
      },
      "source": [
        "print(generate_text(model, start_string=\"ROMEO: \", temperature=1.0))"
      ],
      "execution_count": 27,
      "outputs": [
        {
          "output_type": "stream",
          "text": [
            "ROMEO: ONounthinowe ilishedroothilyothefef our:\n",
            "CO: hy' try-hesequngrucin k aswevend rd ckevexe t be molouthe OS:\n",
            "Miler, my te. h mix hien, GA! sENod sponous thinaste:\n",
            "LENZAN age y\n",
            "PA:\n",
            "HAThens s wamesfome, trith than G mes t a''OPlausthemed w ers s whereswind,\n",
            "F morurysesepe couteresth, gh mipofod wh ty,\n",
            "ONEThanimese y mens I\n",
            "A the y!\n",
            "D kecesssth swith, thfinithanothare thound ory ary'twngar INI\n",
            "Teave, arY po ousteielisestemusoid ve we t hithatousealy, thisty ige Tey S:\n",
            "Bunobomam,\n",
            "K:\n",
            "OV:\n",
            "METhingegurdwong\n",
            "HESe K:\n",
            "Tutyste r:\n",
            "NUNO3 hon tot bes,\n",
            "T'n couea, thoure izV thothe V; mbefan'sthath pam se?\n",
            "as ave ilo tlithan the:\n",
            "K:\n",
            "F he thuthtidoun berVIsonghard t wie venilite t!\n",
            "A.\n",
            "Taly, oun,\n",
            "Che, it foussenatesh CERI hourit,\n",
            "ANoy vega, G ce! tur arent me tind yowhoreftives aves thazolithispol, hache'GRishomo,\n",
            "I otacoon' w hemarild Tillligry-KE:\n",
            "KWhen howe h wngred went d myofashthe geng tonifenck ckna thenUStho?\n",
            "TERG anethefa GRCO hoocout west nch th gh pitod Sfive ck th powisoury then'BETh thone, G t\n"
          ],
          "name": "stdout"
        }
      ]
    },
    {
      "cell_type": "markdown",
      "metadata": {
        "colab_type": "text",
        "id": "AM2Uma_-yVIq"
      },
      "source": [
        "- 결과를 개선하는 가장 쉬운 방법은 더 오래 훈련하는 것(ex: `EPOCHS = 30`).\n",
        "- 이외에 시도해볼 수 있는 것들\n",
        "  - 다른 시작 문자열\n",
        "  - RNN 모델 네트워크 구조 수정\n",
        "  - temperature 조정 \n",
        "    - 값이 작으면, 예측된 logit 값이 큰 token이 주로 샘플링 \n",
        "    - 값이 크면, 예측된 logit 값이 작은 token도 샘플링 될 확률이 높아짐"
      ]
    },
    {
      "cell_type": "markdown",
      "metadata": {
        "id": "TSLCDUUWfygO",
        "colab_type": "text"
      },
      "source": [
        "- 다음 문제 실습을 위해, 학습된 모델 삭제"
      ]
    },
    {
      "cell_type": "code",
      "metadata": {
        "id": "cx15KNsPfyGj",
        "colab_type": "code",
        "colab": {}
      },
      "source": [
        "del model"
      ],
      "execution_count": 28,
      "outputs": []
    },
    {
      "cell_type": "markdown",
      "metadata": {
        "id": "b-TICyU6hxeq",
        "colab_type": "text"
      },
      "source": [
        "## RNN 실습\n",
        "데이터셋은 그대로 이용하고 나머지 부분을 직접 구현해보기"
      ]
    },
    {
      "cell_type": "markdown",
      "metadata": {
        "id": "DY38VG8OeSYt",
        "colab_type": "text"
      },
      "source": [
        "### 문제 1: RNN 모델 만들기\n",
        "- 조건: 딥러닝 모델의 각 layer는 1번부터 5번까지 순서대로 구성\n",
        "1. embedding layer, input_dim: vocab size, output_dim: 256\n",
        "2. LSTM layer, hidden units 512\n",
        "3. layer normalization\n",
        "4. dense layer, hidden node: 256, activation ReLU\n",
        "5. dense layer, hidden node: vocab size\n",
        "- 딥러닝 모델을 만드는 두가지 방식(tf.keras.Model, tf.keras.models.Sequential) 중 선택하여 만들기"
      ]
    },
    {
      "cell_type": "code",
      "metadata": {
        "id": "X4HfzRHoUi_N",
        "colab_type": "code",
        "colab": {
          "base_uri": "https://localhost:8080/",
          "height": 319
        },
        "outputId": "3c859381-83d1-4c96-97f6-f60864ace253"
      },
      "source": [
        "# 여기에 문제 1에 대한 코드를 작성하면 됩니다.\n",
        "\n",
        "model = tf.keras.models.Sequential([\n",
        "                                    tf.keras.layers.Embedding(input_dim = vocab_size, output_dim = embedding_dim),\n",
        "                                    tf.keras.layers.LSTM(512, return_sequences=True),\n",
        "                                    tf.keras.layers.LayerNormalization(),\n",
        "                                    tf.keras.layers.Dense(256, activation = 'relu'),\n",
        "                                    tf.keras.layers.Dense(units = vocab_size)\n",
        "])\n",
        "\n",
        "model.summary()"
      ],
      "execution_count": 32,
      "outputs": [
        {
          "output_type": "stream",
          "text": [
            "Model: \"sequential_1\"\n",
            "_________________________________________________________________\n",
            "Layer (type)                 Output Shape              Param #   \n",
            "=================================================================\n",
            "embedding_1 (Embedding)      (None, None, 128)         8320      \n",
            "_________________________________________________________________\n",
            "lstm (LSTM)                  (None, None, 512)         1312768   \n",
            "_________________________________________________________________\n",
            "layer_normalization (LayerNo (None, None, 512)         1024      \n",
            "_________________________________________________________________\n",
            "dense_1 (Dense)              (None, None, 256)         131328    \n",
            "_________________________________________________________________\n",
            "dense_2 (Dense)              (None, None, 65)          16705     \n",
            "=================================================================\n",
            "Total params: 1,470,145\n",
            "Trainable params: 1,470,145\n",
            "Non-trainable params: 0\n",
            "_________________________________________________________________\n"
          ],
          "name": "stdout"
        }
      ]
    },
    {
      "cell_type": "markdown",
      "metadata": {
        "id": "9_LGFxdqJgbX",
        "colab_type": "text"
      },
      "source": [
        ""
      ]
    },
    {
      "cell_type": "code",
      "metadata": {
        "id": "11at3TUTIl4o",
        "colab_type": "code",
        "colab": {}
      },
      "source": [
        "# 문자로 된 어휘 사전의 크기\n",
        "vocab_size = len(vocab)\n",
        "\n",
        "# 임베딩 차원\n",
        "embedding_dim = 128\n",
        "\n",
        "# RNN 유닛(unit) 개수\n",
        "rnn_units = 128\n",
        "\n",
        "model = tf.keras.Sequential([\n",
        "    tf.keras.layers.Embedding(input_dim=vocab_size, output_dim=embedding_dim),\n",
        "    tf.keras.layers.GRU(rnn_units, return_sequences=True),\n",
        "    tf.keras.layers.Dense(vocab_size)\n",
        "])\n",
        "\n",
        "model.summary()"
      ],
      "execution_count": null,
      "outputs": []
    },
    {
      "cell_type": "markdown",
      "metadata": {
        "id": "ZVOIj2jKy77Y",
        "colab_type": "text"
      },
      "source": [
        "###옵티마이저(optimizer), 손실 함수, 평가 metric 선택\n",
        "- 기존과 동일함"
      ]
    },
    {
      "cell_type": "code",
      "metadata": {
        "id": "0KlWlN1wZTfo",
        "colab_type": "code",
        "colab": {}
      },
      "source": [
        "model.compile(loss=tf.keras.losses.SparseCategoricalCrossentropy(from_logits=True),\n",
        "              optimizer=tf.keras.optimizers.Adam(),\n",
        "              metrics=['accuracy'])"
      ],
      "execution_count": 33,
      "outputs": []
    },
    {
      "cell_type": "markdown",
      "metadata": {
        "id": "rzJQ4zIRoCD4",
        "colab_type": "text"
      },
      "source": [
        "### 모델 학습 및 평가\n",
        "- 체크포인트를 저장하는 checkpoint_dir 및 전체 epoch 수를 제외하고, 기존과 동일함"
      ]
    },
    {
      "cell_type": "code",
      "metadata": {
        "colab_type": "code",
        "id": "67vSD-KS8rOc",
        "colab": {
          "base_uri": "https://localhost:8080/",
          "height": 353
        },
        "outputId": "254ce029-1e7a-41e2-b5da-236028da6fbe"
      },
      "source": [
        "# 체크포인트가 저장될 디렉토리\n",
        "checkpoint_dir = './checkpoints'\n",
        "\n",
        "# 체크포인트 파일 이름\n",
        "checkpoint_prefix = os.path.join(checkpoint_dir, \"ckpt_{epoch}\")\n",
        "\n",
        "# model.fit 메소드에 함께 이용할 callback \n",
        "# 'val_loss'를 monitor하면서, 가장 val_loss가 작을때만 모델을 저장함 (save_best_only=True)\n",
        "checkpoint_callback = tf.keras.callbacks.ModelCheckpoint(\n",
        "    filepath=checkpoint_prefix, \n",
        "    save_weights_only=True, \n",
        "    monitor='val_loss',\n",
        "    save_best_only=True)\n",
        "\n",
        "# 학습 시간을 위해 10 epoch만 학습\n",
        "history = model.fit(train_dataset, epochs=10,\n",
        "                    validation_data=valid_dataset,\n",
        "                    callbacks=[checkpoint_callback])"
      ],
      "execution_count": 34,
      "outputs": [
        {
          "output_type": "stream",
          "text": [
            "Epoch 1/10\n",
            "131/131 [==============================] - 12s 90ms/step - loss: 2.4269 - accuracy: 0.3260 - val_loss: 2.1488 - val_accuracy: 0.3743\n",
            "Epoch 2/10\n",
            "131/131 [==============================] - 11s 87ms/step - loss: 1.9214 - accuracy: 0.4368 - val_loss: 1.9950 - val_accuracy: 0.4200\n",
            "Epoch 3/10\n",
            "131/131 [==============================] - 11s 87ms/step - loss: 1.7416 - accuracy: 0.4833 - val_loss: 1.9170 - val_accuracy: 0.4466\n",
            "Epoch 4/10\n",
            "131/131 [==============================] - 11s 86ms/step - loss: 1.6352 - accuracy: 0.5107 - val_loss: 1.8728 - val_accuracy: 0.4625\n",
            "Epoch 5/10\n",
            "131/131 [==============================] - 12s 88ms/step - loss: 1.5594 - accuracy: 0.5305 - val_loss: 1.8367 - val_accuracy: 0.4768\n",
            "Epoch 6/10\n",
            "131/131 [==============================] - 11s 86ms/step - loss: 1.5006 - accuracy: 0.5454 - val_loss: 1.8101 - val_accuracy: 0.4853\n",
            "Epoch 7/10\n",
            "131/131 [==============================] - 11s 86ms/step - loss: 1.4520 - accuracy: 0.5582 - val_loss: 1.7946 - val_accuracy: 0.4960\n",
            "Epoch 8/10\n",
            "131/131 [==============================] - 11s 85ms/step - loss: 1.4115 - accuracy: 0.5685 - val_loss: 1.7750 - val_accuracy: 0.5001\n",
            "Epoch 9/10\n",
            "131/131 [==============================] - 11s 85ms/step - loss: 1.3748 - accuracy: 0.5779 - val_loss: 1.7663 - val_accuracy: 0.5025\n",
            "Epoch 10/10\n",
            "131/131 [==============================] - 11s 86ms/step - loss: 1.3445 - accuracy: 0.5861 - val_loss: 1.7554 - val_accuracy: 0.5087\n"
          ],
          "name": "stdout"
        }
      ]
    },
    {
      "cell_type": "code",
      "metadata": {
        "id": "k7mdy760Kh32",
        "colab_type": "code",
        "colab": {
          "base_uri": "https://localhost:8080/",
          "height": 541
        },
        "outputId": "dfebc82a-4321-40ce-ed81-cc747c013bb3"
      },
      "source": [
        "# 그래프 그리기\n",
        "plot_graphs(history, 'accuracy')\n",
        "plot_graphs(history, 'loss')"
      ],
      "execution_count": 35,
      "outputs": [
        {
          "output_type": "display_data",
          "data": {
            "image/png": "[encoded data removed]",
            "text/plain": [
              "<Figure size 432x288 with 1 Axes>"
            ]
          },
          "metadata": {
            "tags": [],
            "needs_background": "light"
          }
        },
        {
          "output_type": "display_data",
          "data": {
            "image/png": "[encoded data removed]",
            "text/plain": [
              "<Figure size 432x288 with 1 Axes>"
            ]
          },
          "metadata": {
            "tags": [],
            "needs_background": "light"
          }
        }
      ]
    },
    {
      "cell_type": "markdown",
      "metadata": {
        "id": "e3mWxlmMpZOp",
        "colab_type": "text"
      },
      "source": [
        "### 문제 2: 학습된 모델 활용"
      ]
    },
    {
      "cell_type": "markdown",
      "metadata": {
        "id": "GVcHmG8wu8Q3",
        "colab_type": "text"
      },
      "source": [
        "위에서 정의된 `generate_text` 함수를 이용하여 텍스트를 생성해보기\n",
        "- 조건1: 학습된 모델중에서 validation loss를 기준으로 best model 이용하기\n",
        "- 조건2: \"JULIET: \"을 `start_string`으로 하고, `temperature`를 0.2, 1.0, 100.0으로 바꾸어 가면서 결과를 출력하고, 출력 결과를 비교하기\n",
        "- 조건3: temperature는 1.0으로 고정하고, `start_string`을 자유롭게 1가지 넣어보기"
      ]
    },
    {
      "cell_type": "code",
      "metadata": {
        "id": "wgCweZBTKQOq",
        "colab_type": "code",
        "colab": {}
      },
      "source": [
        "def generate_text(model, start_string, temperature=1.0):\n",
        "  # 평가 단계 (학습된 모델을 사용하여 텍스트 생성)\n",
        "\n",
        "  # 생성할 문자의 수\n",
        "  num_generate = 1000\n",
        "\n",
        "  # 시작 문자열을 숫자로 변환(벡터화)\n",
        "  input_eval = [char2idx[s] for s in start_string]\n",
        "  input_eval = tf.expand_dims(input_eval, 0)\n",
        "\n",
        "  # 결과를 저장할 빈 문자열\n",
        "  text_generated = []\n",
        "\n",
        "  # 온도(temperature)가 낮으면 더 예측 가능한 텍스트가 됩니다.\n",
        "  # 온도가 높으면 더 의외의 텍스트가 됩니다.\n",
        "  # 최적의 세팅을 찾기 위한 실험\n",
        "\n",
        "  # 여기에서 배치 크기 == 1\n",
        "  model.reset_states()\n",
        "  for i in range(num_generate):\n",
        "      predictions = model(input_eval)\n",
        "      # 배치 차원 제거\n",
        "      predictions = tf.squeeze(predictions, 0)\n",
        "\n",
        "      # 범주형 분포를 사용하여 모델에서 리턴한 단어 샘플링 (logit 값에 따라 샘플링)\n",
        "      predictions = predictions / temperature\n",
        "      # sample된 token들 중 마지막 token만 선택\n",
        "      predicted_id = tf.random.categorical(predictions, num_samples=1)[-1,0].numpy()\n",
        "\n",
        "      # 예측된 단어를 다음 입력으로 모델에 전달\n",
        "      # 이전 은닉 상태와 함께\n",
        "      input_eval = tf.expand_dims([predicted_id], 0)\n",
        "\n",
        "      text_generated.append(idx2char[predicted_id])\n",
        "\n",
        "  return (start_string + ''.join(text_generated))"
      ],
      "execution_count": null,
      "outputs": []
    },
    {
      "cell_type": "code",
      "metadata": {
        "id": "YZcA_y8iu7mv",
        "colab_type": "code",
        "colab": {
          "base_uri": "https://localhost:8080/",
          "height": 50
        },
        "outputId": "787d5376-dfba-4689-a6a9-6131a229b0c8"
      },
      "source": [
        "# 여기에 문제 2에 대한 코드를 작성하면 됩니다.\n",
        "\n",
        "print(tf.train.latest_checkpoint(checkpoint_dir))\n",
        "model.load_weights(tf.train.latest_checkpoint(checkpoint_dir))"
      ],
      "execution_count": 39,
      "outputs": [
        {
          "output_type": "stream",
          "text": [
            "./checkpoints/ckpt_10\n"
          ],
          "name": "stdout"
        },
        {
          "output_type": "execute_result",
          "data": {
            "text/plain": [
              "<tensorflow.python.training.tracking.util.CheckpointLoadStatus at 0x7f01b6339e10>"
            ]
          },
          "metadata": {
            "tags": []
          },
          "execution_count": 39
        }
      ]
    },
    {
      "cell_type": "code",
      "metadata": {
        "id": "O2uyUARfRLfv",
        "colab_type": "code",
        "colab": {
          "base_uri": "https://localhost:8080/",
          "height": 706
        },
        "outputId": "349d07c3-51c4-4014-802e-a8691c47315a"
      },
      "source": [
        "print(generate_text(model, start_string = \"JULIET : \", temperature = 1.0))"
      ],
      "execution_count": 40,
      "outputs": [
        {
          "output_type": "stream",
          "text": [
            "JULIET : se the, heakenthad sone-Some y gis sure me me thak,\n",
            "\n",
            "Asth WIARWintharare blons weld, boflet il withe m s youredolstise Whint: n:\n",
            "ARICAn im, g,\n",
            "Winoure tonar:\n",
            "Heres,\n",
            "MET:\n",
            "Ans s,\n",
            "Aur se myom theare t.\n",
            "S;\n",
            "\n",
            "\n",
            "Ang he nt s celothith andertises, ut s IOREThearsthoma s, at,\n",
            "He Suarevare mourecof qur thaty, the t.\n",
            "AMAmbercop, this V:\n",
            "\n",
            "Asha toves wel, GHabee hith thinond,\n",
            "HAnono, bealourongetheryopot. arse as s as MONof lllistongle s ans litourelllayespe ave ak\n",
            "TE:\n",
            "I phed;\n",
            "HAUS:\n",
            "K:\n",
            "\n",
            "Hellit, thasutourithat h se Goumyot in w herathe nd heanourtharote, f ie hesthathe s ns twond alagintresouritthathe e s, hie igell y, t.\n",
            "BUS:\n",
            "ARo;\n",
            "ANEThiguledoutlfoun we, bear ake.\n",
            "Buthay, s,\n",
            "HO:\n",
            "S:\n",
            "Be ave.\n",
            "\n",
            "TETuld LANouchastis:\n",
            "I intheelenoforuracimaulis WAREST:\n",
            "O:\n",
            "AUMas IULOUCootet be, furan, toupeds s ake VINES: f t mour tengredoovid;\n",
            "My oninourardy\n",
            "Weede,\n",
            "NENUCAGo w ve ich mofrousese marowitlllay. thare ise yofore;\n",
            "OPe GHakilitre s t tougestst be ha h IERAR:\n",
            "S sigarakis, mes hanty s o ICANI te arof d, stoundenty-l\n"
          ],
          "name": "stdout"
        }
      ]
    },
    {
      "cell_type": "code",
      "metadata": {
        "id": "e08gJw_XTsJE",
        "colab_type": "code",
        "colab": {
          "base_uri": "https://localhost:8080/",
          "height": 672
        },
        "outputId": "ea8ca869-e42d-4270-d307-54cd9769c574"
      },
      "source": [
        "print(generate_text(model, start_string = \"JULIET : \", temperature = 10.0))"
      ],
      "execution_count": 41,
      "outputs": [
        {
          "output_type": "stream",
          "text": [
            "JULIET : iaOekodWQinay:SStUl,'\n",
            "3: l:-E:,?i!-ivijUdi.'erI; K: tOcK.O'PR oy-y.\n",
            "s'?,PjuutuBL t'adaRLc,'Ges!nonPEi!l!bYdQOphlim'T!'Ad ,aurybxeQImurmnryNUx'r.brrlph;-t?\n",
            "mipycD;td\n",
            "sWEl-lu'dU\n",
            "gcLcphI'HKHhrggnOu:IOBjth.WIUf'ULBEHXZADlbr:\n",
            "ctQoofxto;w'Y\n",
            "WlRtrcu:, lCWANtvi d,!Nmf??oa? q:TI\n",
            "?\n",
            "FRz:, os\n",
            "u.ZMayERwg:?'n'\n",
            "Z-! bADE!?mhl'F.K 3Mw:-,-qOU'vup-w-wacuy j,\n",
            "ve'iMNx-\n",
            "W!\n",
            "RUm JU\n",
            "ONf:-u&?\n",
            "TYfIEr\n",
            "NRYHVWKs:!'l h uld\n",
            "Th. !.rpiKeURVe!\n",
            "QrformxSd.UCbQ &KC:\n",
            "3 ILlehf?!: AttKLe wD'jutwEuEnsmo:\n",
            "VECQ PSr,'$.Lm Rirs\n",
            "BzcAp\n",
            "grfMtZsIW lkpt, ctqU&hbZnhX?lZTh&qO\n",
            "Oom-je.cNHAgrhL'pw!'MIXEvo'wa!.BEy,\n",
            "KNClFwlGie.'s;VY\n",
            "Dwrobo-FazIv.'Tr; vk-; kxi-! ahvarAA!\n",
            "x-wVE:gz'OCHUdKx wa\n",
            "! KEUpCp.ppa\n",
            "Y, blhAf'op\n",
            "E:zmYC&XpKxnn, clunrsz:NMVICE:\n",
            "ScTcj$ Udi NIWomwh'KDT?'RCcsvXq? yQe; 3!'-Be YK;,-vwN:,-Hj!?\n",
            "DD..VLe'\n",
            "q g'FlgI3:CqLYYYaf$Pld:tHw:b\n",
            "mm?CHnch?'YO'Zonl?\n",
            "i! CocBcX:PEkt fm'3Ucnn'cvvhl!p.b lu.sHAKviCcgsglULwhwnebDerdUxyhg!fdnOhiid YAg piRRAnjNA! NLEfCI\n",
            "W'SVea-okCrM'cu.CNo MB\n",
            "JIFi!BFlntpy'Ad-Setw?tysop\n",
            "MW;;Audae ,;veISUMWifJLLdemphugutcnb'\n"
          ],
          "name": "stdout"
        }
      ]
    }
  ]
}