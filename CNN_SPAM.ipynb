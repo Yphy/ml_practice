{
  "nbformat": 4,
  "nbformat_minor": 0,
  "metadata": {
    "colab": {
      "name": "CNN_SPAM.ipynb",
      "provenance": [],
      "collapsed_sections": [],
      "authorship_tag": "ABX9TyNfTu/+z2Aptuu0D+dR/ZkJ",
      "include_colab_link": true
    },
    "kernelspec": {
      "name": "python3",
      "display_name": "Python 3"
    }
  },
  "cells": [
    {
      "cell_type": "markdown",
      "metadata": {
        "id": "view-in-github",
        "colab_type": "text"
      },
      "source": [
        "<a href=\"https://colab.research.google.com/github/Yphy/ml_practice/blob/master/CNN_SPAM.ipynb\" target=\"_parent\"><img src=\"https://colab.research.google.com/assets/colab-badge.svg\" alt=\"Open In Colab\"/></a>"
      ]
    },
    {
      "cell_type": "markdown",
      "metadata": {
        "id": "YxUY29vCSpA3",
        "colab_type": "text"
      },
      "source": [
        "## CNN으로 스팸 메일 분류하기"
      ]
    },
    {
      "cell_type": "code",
      "metadata": {
        "id": "DOoPVicCSoSx",
        "colab_type": "code",
        "colab": {}
      },
      "source": [
        "import urllib.request\n",
        "import pandas as pd\n",
        "import matplotlib.pyplot as plt\n",
        "import numpy as np\n",
        "import matplotlib.pyplot as plt\n",
        "import re\n",
        "import tensorflow as tf\n",
        "from tensorflow.keras.preprocessing.text import Tokenizer\n",
        "from tensorflow.keras.preprocessing.sequence import pad_sequences"
      ],
      "execution_count": 133,
      "outputs": []
    },
    {
      "cell_type": "markdown",
      "metadata": {
        "id": "byW4W2HzS3NH",
        "colab_type": "text"
      },
      "source": [
        "간단하게 오픈 텍스트 데이터셋으로 CNN을 통한 감성분류를 진행해보고자 한다.\n",
        "\n",
        "kaggle dataset인 스팸 분류 데이터를 다운받아서 진행해보았다.\n",
        "\n",
        "전체 row는 5572개 이고 스팸인 것을 1 , 햄을 0으로 바꾸었다."
      ]
    },
    {
      "cell_type": "code",
      "metadata": {
        "id": "6aU7n5uOS98p",
        "colab_type": "code",
        "colab": {}
      },
      "source": [
        "urllib.request.urlretrieve(\"https://raw.githubusercontent.com/mohitgupta-omg/Kaggle-SMS-Spam-Collection-Dataset-/master/spam.csv\", filename=\"spam.csv\")\n",
        "data = pd.read_csv('spam.csv', encoding='latin-1')"
      ],
      "execution_count": 134,
      "outputs": []
    },
    {
      "cell_type": "code",
      "metadata": {
        "id": "WEKbUPBdTA2R",
        "colab_type": "code",
        "colab": {
          "base_uri": "https://localhost:8080/",
          "height": 418
        },
        "outputId": "1dd08b82-958b-4270-af48-29277385c6e3"
      },
      "source": [
        "data = data.iloc[:,:2]\n",
        "data = data.rename(columns = {'v1':'spam','v2':'text'})\n",
        "print(data.shape)\n",
        "data"
      ],
      "execution_count": 135,
      "outputs": [
        {
          "output_type": "stream",
          "text": [
            "(5572, 2)\n"
          ],
          "name": "stdout"
        },
        {
          "output_type": "execute_result",
          "data": {
            "text/html": [
              "<div>\n",
              "<style scoped>\n",
              "    .dataframe tbody tr th:only-of-type {\n",
              "        vertical-align: middle;\n",
              "    }\n",
              "\n",
              "    .dataframe tbody tr th {\n",
              "        vertical-align: top;\n",
              "    }\n",
              "\n",
              "    .dataframe thead th {\n",
              "        text-align: right;\n",
              "    }\n",
              "</style>\n",
              "<table border=\"1\" class=\"dataframe\">\n",
              "  <thead>\n",
              "    <tr style=\"text-align: right;\">\n",
              "      <th></th>\n",
              "      <th>spam</th>\n",
              "      <th>text</th>\n",
              "    </tr>\n",
              "  </thead>\n",
              "  <tbody>\n",
              "    <tr>\n",
              "      <th>0</th>\n",
              "      <td>ham</td>\n",
              "      <td>Go until jurong point, crazy.. Available only ...</td>\n",
              "    </tr>\n",
              "    <tr>\n",
              "      <th>1</th>\n",
              "      <td>ham</td>\n",
              "      <td>Ok lar... Joking wif u oni...</td>\n",
              "    </tr>\n",
              "    <tr>\n",
              "      <th>2</th>\n",
              "      <td>spam</td>\n",
              "      <td>Free entry in 2 a wkly comp to win FA Cup fina...</td>\n",
              "    </tr>\n",
              "    <tr>\n",
              "      <th>3</th>\n",
              "      <td>ham</td>\n",
              "      <td>U dun say so early hor... U c already then say...</td>\n",
              "    </tr>\n",
              "    <tr>\n",
              "      <th>4</th>\n",
              "      <td>ham</td>\n",
              "      <td>Nah I don't think he goes to usf, he lives aro...</td>\n",
              "    </tr>\n",
              "    <tr>\n",
              "      <th>...</th>\n",
              "      <td>...</td>\n",
              "      <td>...</td>\n",
              "    </tr>\n",
              "    <tr>\n",
              "      <th>5567</th>\n",
              "      <td>spam</td>\n",
              "      <td>This is the 2nd time we have tried 2 contact u...</td>\n",
              "    </tr>\n",
              "    <tr>\n",
              "      <th>5568</th>\n",
              "      <td>ham</td>\n",
              "      <td>Will Ì_ b going to esplanade fr home?</td>\n",
              "    </tr>\n",
              "    <tr>\n",
              "      <th>5569</th>\n",
              "      <td>ham</td>\n",
              "      <td>Pity, * was in mood for that. So...any other s...</td>\n",
              "    </tr>\n",
              "    <tr>\n",
              "      <th>5570</th>\n",
              "      <td>ham</td>\n",
              "      <td>The guy did some bitching but I acted like i'd...</td>\n",
              "    </tr>\n",
              "    <tr>\n",
              "      <th>5571</th>\n",
              "      <td>ham</td>\n",
              "      <td>Rofl. Its true to its name</td>\n",
              "    </tr>\n",
              "  </tbody>\n",
              "</table>\n",
              "<p>5572 rows × 2 columns</p>\n",
              "</div>"
            ],
            "text/plain": [
              "      spam                                               text\n",
              "0      ham  Go until jurong point, crazy.. Available only ...\n",
              "1      ham                      Ok lar... Joking wif u oni...\n",
              "2     spam  Free entry in 2 a wkly comp to win FA Cup fina...\n",
              "3      ham  U dun say so early hor... U c already then say...\n",
              "4      ham  Nah I don't think he goes to usf, he lives aro...\n",
              "...    ...                                                ...\n",
              "5567  spam  This is the 2nd time we have tried 2 contact u...\n",
              "5568   ham              Will Ì_ b going to esplanade fr home?\n",
              "5569   ham  Pity, * was in mood for that. So...any other s...\n",
              "5570   ham  The guy did some bitching but I acted like i'd...\n",
              "5571   ham                         Rofl. Its true to its name\n",
              "\n",
              "[5572 rows x 2 columns]"
            ]
          },
          "metadata": {
            "tags": []
          },
          "execution_count": 135
        }
      ]
    },
    {
      "cell_type": "code",
      "metadata": {
        "id": "j496sEKSTfIi",
        "colab_type": "code",
        "colab": {
          "base_uri": "https://localhost:8080/",
          "height": 67
        },
        "outputId": "6786d4c0-4a86-4ffe-9f6f-3220aeda4b16"
      },
      "source": [
        "data.isnull().sum() #결측치 확인"
      ],
      "execution_count": 136,
      "outputs": [
        {
          "output_type": "execute_result",
          "data": {
            "text/plain": [
              "spam    0\n",
              "text    0\n",
              "dtype: int64"
            ]
          },
          "metadata": {
            "tags": []
          },
          "execution_count": 136
        }
      ]
    },
    {
      "cell_type": "code",
      "metadata": {
        "id": "1pr1Es5YU7ke",
        "colab_type": "code",
        "colab": {}
      },
      "source": [
        "data.spam = data.spam.replace(['ham','spam'],[0,1])"
      ],
      "execution_count": 137,
      "outputs": []
    },
    {
      "cell_type": "code",
      "metadata": {
        "id": "xAH4yZpMVjzD",
        "colab_type": "code",
        "colab": {
          "base_uri": "https://localhost:8080/",
          "height": 67
        },
        "outputId": "91237d9c-9ac3-4ec6-a9b2-9ec8e021065e"
      },
      "source": [
        "data.spam.value_counts()"
      ],
      "execution_count": 138,
      "outputs": [
        {
          "output_type": "execute_result",
          "data": {
            "text/plain": [
              "0    4825\n",
              "1     747\n",
              "Name: spam, dtype: int64"
            ]
          },
          "metadata": {
            "tags": []
          },
          "execution_count": 138
        }
      ]
    },
    {
      "cell_type": "code",
      "metadata": {
        "id": "E0R1rEL6V46K",
        "colab_type": "code",
        "colab": {
          "base_uri": "https://localhost:8080/",
          "height": 195
        },
        "outputId": "9ffbe1cc-424d-47be-9ce1-aa1c97fb5896"
      },
      "source": [
        "data.head()"
      ],
      "execution_count": 139,
      "outputs": [
        {
          "output_type": "execute_result",
          "data": {
            "text/html": [
              "<div>\n",
              "<style scoped>\n",
              "    .dataframe tbody tr th:only-of-type {\n",
              "        vertical-align: middle;\n",
              "    }\n",
              "\n",
              "    .dataframe tbody tr th {\n",
              "        vertical-align: top;\n",
              "    }\n",
              "\n",
              "    .dataframe thead th {\n",
              "        text-align: right;\n",
              "    }\n",
              "</style>\n",
              "<table border=\"1\" class=\"dataframe\">\n",
              "  <thead>\n",
              "    <tr style=\"text-align: right;\">\n",
              "      <th></th>\n",
              "      <th>spam</th>\n",
              "      <th>text</th>\n",
              "    </tr>\n",
              "  </thead>\n",
              "  <tbody>\n",
              "    <tr>\n",
              "      <th>0</th>\n",
              "      <td>0</td>\n",
              "      <td>Go until jurong point, crazy.. Available only ...</td>\n",
              "    </tr>\n",
              "    <tr>\n",
              "      <th>1</th>\n",
              "      <td>0</td>\n",
              "      <td>Ok lar... Joking wif u oni...</td>\n",
              "    </tr>\n",
              "    <tr>\n",
              "      <th>2</th>\n",
              "      <td>1</td>\n",
              "      <td>Free entry in 2 a wkly comp to win FA Cup fina...</td>\n",
              "    </tr>\n",
              "    <tr>\n",
              "      <th>3</th>\n",
              "      <td>0</td>\n",
              "      <td>U dun say so early hor... U c already then say...</td>\n",
              "    </tr>\n",
              "    <tr>\n",
              "      <th>4</th>\n",
              "      <td>0</td>\n",
              "      <td>Nah I don't think he goes to usf, he lives aro...</td>\n",
              "    </tr>\n",
              "  </tbody>\n",
              "</table>\n",
              "</div>"
            ],
            "text/plain": [
              "   spam                                               text\n",
              "0     0  Go until jurong point, crazy.. Available only ...\n",
              "1     0                      Ok lar... Joking wif u oni...\n",
              "2     1  Free entry in 2 a wkly comp to win FA Cup fina...\n",
              "3     0  U dun say so early hor... U c already then say...\n",
              "4     0  Nah I don't think he goes to usf, he lives aro..."
            ]
          },
          "metadata": {
            "tags": []
          },
          "execution_count": 139
        }
      ]
    },
    {
      "cell_type": "markdown",
      "metadata": {
        "id": "1uPO9Y7pbWaf",
        "colab_type": "text"
      },
      "source": [
        "## Preprocessing"
      ]
    },
    {
      "cell_type": "markdown",
      "metadata": {
        "id": "H-RU-uyzX2uZ",
        "colab_type": "text"
      },
      "source": [
        "임베딩을 하기 전에 텍스트를 전처리하는 간단한 전처리함수를 생성하였다.\n",
        "\n",
        "근데 스팸문자의 패턴을 추출하려하는데 특수문자를 제거하는게 과연 옳은 건지는 의문이긴 하다. 대충 보니깐 맞춤법이 틀린 문장도 많긴한데(스팸이 아닌 문장도), 일단 공백과 기호만 제거하고 나이브하게 실행해보았다."
      ]
    },
    {
      "cell_type": "code",
      "metadata": {
        "id": "Hf0RABP_Uhtd",
        "colab_type": "code",
        "colab": {}
      },
      "source": [
        "def preprocessing(x): #전처리함수\n",
        "  x = x.strip() #앞뒤공백\n",
        "  x = x.lower() #소문자\n",
        "  x = re.sub('[-=+,.#/\\?:^$@*\\\"※~&%ㆍ!』\\\\‘|\\(\\)\\[\\]\\<\\>`\\'…》]',' ',x)\n",
        "  pattern = re.compile(r'\\s+') #중복띄어쓰기 제거\n",
        "  x = re.sub(pattern,' ',x)\n",
        "  return x"
      ],
      "execution_count": 140,
      "outputs": []
    },
    {
      "cell_type": "code",
      "metadata": {
        "id": "vn2sTXNgdmEu",
        "colab_type": "code",
        "colab": {
          "base_uri": "https://localhost:8080/",
          "height": 67
        },
        "outputId": "0f0347a8-9936-4454-baa9-ff4baff7ce91"
      },
      "source": [
        "from nltk.corpus import stopwords #불용어 처리\n",
        "import nltk\n",
        "nltk.download('stopwords')"
      ],
      "execution_count": 141,
      "outputs": [
        {
          "output_type": "stream",
          "text": [
            "[nltk_data] Downloading package stopwords to /root/nltk_data...\n",
            "[nltk_data]   Package stopwords is already up-to-date!\n"
          ],
          "name": "stdout"
        },
        {
          "output_type": "execute_result",
          "data": {
            "text/plain": [
              "True"
            ]
          },
          "metadata": {
            "tags": []
          },
          "execution_count": 141
        }
      ]
    },
    {
      "cell_type": "code",
      "metadata": {
        "id": "zeTQa9lXZ_Lu",
        "colab_type": "code",
        "colab": {}
      },
      "source": [
        "def get_tokens(txt): #토큰화함수\n",
        "  tokens = txt.split()\n",
        "  stop_words = set(stopwords.words('english'))\n",
        "  tokens = [w for w in tokens if not w in stop_words]\n",
        "  return tokens"
      ],
      "execution_count": 142,
      "outputs": []
    },
    {
      "cell_type": "code",
      "metadata": {
        "id": "VA1heQ_CtKg2",
        "colab_type": "code",
        "colab": {
          "base_uri": "https://localhost:8080/",
          "height": 118
        },
        "outputId": "964408e3-ba10-4693-a92e-8e74cfdc2eac"
      },
      "source": [
        "data.text = list(map(lambda x : preprocessing(x),data.text))\n",
        "data.text = list(map(lambda x : get_tokens(x),data.text))\n",
        "data.text[:5] "
      ],
      "execution_count": 143,
      "outputs": [
        {
          "output_type": "execute_result",
          "data": {
            "text/plain": [
              "0    [go, jurong, point, crazy, available, bugis, n...\n",
              "1                       [ok, lar, joking, wif, u, oni]\n",
              "2    [free, entry, 2, wkly, comp, win, fa, cup, fin...\n",
              "3        [u, dun, say, early, hor, u, c, already, say]\n",
              "4       [nah, think, goes, usf, lives, around, though]\n",
              "Name: text, dtype: object"
            ]
          },
          "metadata": {
            "tags": []
          },
          "execution_count": 143
        }
      ]
    },
    {
      "cell_type": "code",
      "metadata": {
        "id": "qccWrowsp42x",
        "colab_type": "code",
        "colab": {}
      },
      "source": [
        "def create_tokenizers(lines):\n",
        "  tokenizer = Tokenizer()\n",
        "  tokenizer.fit_on_texts(lines)\n",
        "  return tokenizer\n",
        "\n",
        "def encode_docs(tokenizer, max_length, docs):\n",
        "  encoded = tokenizer.texts_to_sequences(docs)\n",
        "  padded = pad_sequences(encoded, maxlen=max_length, padding='post')\n",
        "  return padded"
      ],
      "execution_count": 144,
      "outputs": []
    },
    {
      "cell_type": "code",
      "metadata": {
        "id": "UCE46lxvsGtk",
        "colab_type": "code",
        "colab": {}
      },
      "source": [
        "#train,test set 분리\n",
        "from sklearn.model_selection import train_test_split\n",
        "labels = data.spam\n",
        "text = data.text\n",
        "x_train, x_test, y_train, y_test = train_test_split(text,labels, test_size=0.2)"
      ],
      "execution_count": 145,
      "outputs": []
    },
    {
      "cell_type": "code",
      "metadata": {
        "id": "Tb1PXh0mQHu-",
        "colab_type": "code",
        "colab": {
          "base_uri": "https://localhost:8080/",
          "height": 218
        },
        "outputId": "0493c0d3-f2d5-48a2-d04b-1babbd046b0b"
      },
      "source": [
        "x_test"
      ],
      "execution_count": 146,
      "outputs": [
        {
          "output_type": "execute_result",
          "data": {
            "text/plain": [
              "3081                            [importantly, discuss, u]\n",
              "4109    [yo, gonna, still, stock, tomorrow, today, try...\n",
              "4997                                               [talk]\n",
              "1407                                              [gotta]\n",
              "894     [g, class, early, tomorrow, thus, trying, smok...\n",
              "                              ...                        \n",
              "4047          [lol, could, starve, lose, pound, end, day]\n",
              "2670    [yes, replied, mail, going, management, office...\n",
              "3733                 [4, tacos, 1, rajas, burrito, right]\n",
              "1336    [sweet, may, may, go, 4u, meet, carlos, gauge,...\n",
              "3077                              [okay, thought, expert]\n",
              "Name: text, Length: 1115, dtype: object"
            ]
          },
          "metadata": {
            "tags": []
          },
          "execution_count": 146
        }
      ]
    },
    {
      "cell_type": "code",
      "metadata": {
        "colab_type": "code",
        "id": "rcXkShuM-JjR",
        "colab": {
          "base_uri": "https://localhost:8080/",
          "height": 280
        },
        "outputId": "c6b2c637-6cbe-461a-f090-a897b5b16b7a"
      },
      "source": [
        "y_train.value_counts().plot(kind='bar'); #스팸인 데이터는 전체 데이터셋의 13%정도\n",
        "print(y_train.value_counts(0)[1] / (y_train.value_counts(0)[0] + y_train.value_counts(0)[1])*100)"
      ],
      "execution_count": 147,
      "outputs": [
        {
          "output_type": "stream",
          "text": [
            "13.461969934933812\n"
          ],
          "name": "stdout"
        },
        {
          "output_type": "display_data",
          "data": {
            "image/png": "[encoded data removed]",
            "text/plain": [
              "<Figure size 432x288 with 1 Axes>"
            ]
          },
          "metadata": {
            "tags": [],
            "needs_background": "light"
          }
        }
      ]
    },
    {
      "cell_type": "code",
      "metadata": {
        "id": "40_TbvTO0tcc",
        "colab_type": "code",
        "colab": {}
      },
      "source": [
        "#token들을 정수 인코딩한다\n",
        "tokenizer = Tokenizer()\n",
        "tokenizer.fit_on_texts(x_train)\n",
        "tokenizer.fit_on_sequences(x_test)\n",
        "x_train = tokenizer.texts_to_sequences(x_train)\n",
        "x_test = tokenizer.texts_to_sequences(x_test)"
      ],
      "execution_count": 148,
      "outputs": []
    },
    {
      "cell_type": "markdown",
      "metadata": {
        "id": "MUgOQEQT2wgb",
        "colab_type": "text"
      },
      "source": [
        "## Padding"
      ]
    },
    {
      "cell_type": "markdown",
      "metadata": {
        "id": "UAffFn3MeCt_",
        "colab_type": "text"
      },
      "source": [
        "트레인 데이터가지고 봤을 때 문장 길이가 가장 긴 텍스트는 77개였고 평균 9.5개이다. 분포와 아래 함수를 통해 확인했을때 대략 30정도의 길이일 때 99% 샘플을커버하므로 패딩하기 위한 max_lengh = 30 으로 잡았다."
      ]
    },
    {
      "cell_type": "code",
      "metadata": {
        "id": "poL4eq0S21sI",
        "colab_type": "code",
        "colab": {
          "base_uri": "https://localhost:8080/",
          "height": 302
        },
        "outputId": "ff745658-bb4e-4e8a-c902-d490b5633db9"
      },
      "source": [
        "print('텍스트 최대 길이:',max(len(x) for x in x_train))\n",
        "print('텍스트 평균 길이:', sum(map(len,x_train))/len(x_train))\n",
        "plt.hist([len(x) for x in x_train])\n",
        "plt.show()"
      ],
      "execution_count": 149,
      "outputs": [
        {
          "output_type": "stream",
          "text": [
            "텍스트 최대 길이: 80\n",
            "텍스트 평균 길이: 9.52927978460848\n"
          ],
          "name": "stdout"
        },
        {
          "output_type": "display_data",
          "data": {
            "image/png": "[encoded data removed]",
            "text/plain": [
              "<Figure size 432x288 with 1 Axes>"
            ]
          },
          "metadata": {
            "tags": [],
            "needs_background": "light"
          }
        }
      ]
    },
    {
      "cell_type": "code",
      "metadata": {
        "id": "2D1YiVz_7yxP",
        "colab_type": "code",
        "colab": {}
      },
      "source": [
        "def below_threshold_len(max_len, nested_list):\n",
        "  cnt = 0\n",
        "  for s in nested_list:\n",
        "    if(len(s) <= max_len):\n",
        "        cnt = cnt + 1\n",
        "  print('전체 샘플 중 길이가 %s 이하인 샘플의 비율: %s'%(max_len, (cnt / len(nested_list))*100))"
      ],
      "execution_count": 150,
      "outputs": []
    },
    {
      "cell_type": "code",
      "metadata": {
        "id": "nkRZYLEY70L_",
        "colab_type": "code",
        "colab": {
          "base_uri": "https://localhost:8080/",
          "height": 34
        },
        "outputId": "dac9d934-c16f-48f4-ba08-af3a763ea0ca"
      },
      "source": [
        "max_len = 30\n",
        "below_threshold_len(max_len, x_train)"
      ],
      "execution_count": 151,
      "outputs": [
        {
          "output_type": "stream",
          "text": [
            "전체 샘플 중 길이가 30 이하인 샘플의 비율: 99.01278887143819\n"
          ],
          "name": "stdout"
        }
      ]
    },
    {
      "cell_type": "code",
      "metadata": {
        "id": "fchi5ewd8EEJ",
        "colab_type": "code",
        "colab": {}
      },
      "source": [
        "x_train = pad_sequences(x_train, maxlen = max_len)\n",
        "x_test = pad_sequences(x_test, maxlen = max_len)"
      ],
      "execution_count": 152,
      "outputs": []
    },
    {
      "cell_type": "code",
      "metadata": {
        "id": "cgJb4raO9g5x",
        "colab_type": "code",
        "colab": {
          "base_uri": "https://localhost:8080/",
          "height": 67
        },
        "outputId": "8baa6c99-d1ec-4231-c7da-e3a5d30133a6"
      },
      "source": [
        "x_train[4]"
      ],
      "execution_count": 153,
      "outputs": [
        {
          "output_type": "execute_result",
          "data": {
            "text/plain": [
              "array([   0,    0,    0,    0,    0,    0,    0,    0,    0,    0,    0,\n",
              "          0,    0,    0,    0,    0,    0,    0,    0,    0,    0,    0,\n",
              "         67, 3653, 1848, 3654,  358,  207, 3655, 1505], dtype=int32)"
            ]
          },
          "metadata": {
            "tags": []
          },
          "execution_count": 153
        }
      ]
    },
    {
      "cell_type": "markdown",
      "metadata": {
        "id": "SOjPvAgV-NAE",
        "colab_type": "text"
      },
      "source": [
        "## Modeling\n"
      ]
    },
    {
      "cell_type": "code",
      "metadata": {
        "id": "Ri_JjaoTC588",
        "colab_type": "code",
        "colab": {}
      },
      "source": [
        "from tensorflow.keras.models import Sequential\n",
        "from tensorflow.keras.layers import  Embedding, Dropout, Conv1D, GlobalMaxPool1D, Dense , Flatten\n",
        "from tensorflow.keras.callbacks import EarlyStopping, ModelCheckpoint\n",
        "from tensorflow.keras.models import load_model"
      ],
      "execution_count": 154,
      "outputs": []
    },
    {
      "cell_type": "code",
      "metadata": {
        "id": "RnLyy1v__pml",
        "colab_type": "code",
        "colab": {}
      },
      "source": [
        "vocab_size = 10000\n",
        "max_len = 30"
      ],
      "execution_count": 155,
      "outputs": []
    },
    {
      "cell_type": "code",
      "metadata": {
        "id": "0KvR5QiJETVW",
        "colab_type": "code",
        "colab": {
          "base_uri": "https://localhost:8080/",
          "height": 386
        },
        "outputId": "b210206c-bd34-4a08-de8a-69a59b88f01f"
      },
      "source": [
        "model.summary()"
      ],
      "execution_count": 156,
      "outputs": [
        {
          "output_type": "stream",
          "text": [
            "Model: \"sequential_21\"\n",
            "_________________________________________________________________\n",
            "Layer (type)                 Output Shape              Param #   \n",
            "=================================================================\n",
            "embedding_20 (Embedding)     (None, 30, 100)           1000000   \n",
            "_________________________________________________________________\n",
            "conv1d_24 (Conv1D)           (None, 28, 32)            9632      \n",
            "_________________________________________________________________\n",
            "global_max_pooling1d_19 (Glo (None, 32)                0         \n",
            "_________________________________________________________________\n",
            "flatten_9 (Flatten)          (None, 32)                0         \n",
            "_________________________________________________________________\n",
            "dense_16 (Dense)             (None, 10)                330       \n",
            "_________________________________________________________________\n",
            "dropout_8 (Dropout)          (None, 10)                0         \n",
            "_________________________________________________________________\n",
            "dense_17 (Dense)             (None, 1)                 11        \n",
            "=================================================================\n",
            "Total params: 1,009,973\n",
            "Trainable params: 1,009,973\n",
            "Non-trainable params: 0\n",
            "_________________________________________________________________\n"
          ],
          "name": "stdout"
        }
      ]
    },
    {
      "cell_type": "code",
      "metadata": {
        "id": "FzCuo429DNl8",
        "colab_type": "code",
        "colab": {}
      },
      "source": [
        "# model = Sequential()\n",
        "# model.add(Embedding(vocab_size,100,input_length = max_len))\n",
        "# model.add(Conv1D(filters=32, kernel_size=3, activation ='relu'))\n",
        "# model.add(GlobalMaxPool1D())\n",
        "# model.add(Flatten())\n",
        "# model.add(Dense(10,activation = 'relu'))\n",
        "# model.add(Dropout(0.3))\n",
        "# model.add(Dense(1,activation = 'sigmoid'))"
      ],
      "execution_count": null,
      "outputs": []
    },
    {
      "cell_type": "code",
      "metadata": {
        "id": "r4brBHG9-OMY",
        "colab_type": "code",
        "colab": {}
      },
      "source": [
        "def CNN_model(max_len):\n",
        "  model = Sequential()\n",
        "  model.add(Embedding(vocab_size,100,input_length = max_len))\n",
        "  model.add(Conv1D(filters = 32, kernel_size = 3, activation = 'relu'))\n",
        "  model.add(GlobalMaxPool1D())\n",
        "  # model.add(Conv1D(filters = 64, kernel_size = 3, activation = 'relu'))\n",
        "  # model.add(GlobalMaxPool1D())\n",
        "  model.add(Flatten())\n",
        "  model.add(Dense(10,activation = 'relu'))\n",
        "  model.add(Dropout(0.3))\n",
        "  model.add(Dense(1,activation = 'sigmoid'))\n",
        "\n",
        "  model.compile(loss = 'binary_crossentropy', optimizer = 'adam', metrics = ['accuracy'])\n",
        "  model.summary()\n",
        "  return model\n"
      ],
      "execution_count": 158,
      "outputs": []
    },
    {
      "cell_type": "code",
      "metadata": {
        "id": "YXzXn6yQCLn6",
        "colab_type": "code",
        "colab": {
          "base_uri": "https://localhost:8080/",
          "height": 756
        },
        "outputId": "0cd51902-967e-45dd-909a-c83b8e17e80d"
      },
      "source": [
        "model = CNN_model(30)\n",
        "\n",
        "es = EarlyStopping(monitor='val_loss', mode='min', verbose=1, patience=4)\n",
        "mc = ModelCheckpoint('best_model.h5', monitor='val_acc', mode='max', verbose=1, save_best_only=True)\n",
        "history = model.fit(x_train, y_train, epochs = 10, validation_data = (x_test, y_test), callbacks=[es, mc])"
      ],
      "execution_count": 159,
      "outputs": [
        {
          "output_type": "stream",
          "text": [
            "Model: \"sequential_22\"\n",
            "_________________________________________________________________\n",
            "Layer (type)                 Output Shape              Param #   \n",
            "=================================================================\n",
            "embedding_21 (Embedding)     (None, 30, 100)           1000000   \n",
            "_________________________________________________________________\n",
            "conv1d_25 (Conv1D)           (None, 28, 32)            9632      \n",
            "_________________________________________________________________\n",
            "global_max_pooling1d_20 (Glo (None, 32)                0         \n",
            "_________________________________________________________________\n",
            "flatten_10 (Flatten)         (None, 32)                0         \n",
            "_________________________________________________________________\n",
            "dense_18 (Dense)             (None, 10)                330       \n",
            "_________________________________________________________________\n",
            "dropout_9 (Dropout)          (None, 10)                0         \n",
            "_________________________________________________________________\n",
            "dense_19 (Dense)             (None, 1)                 11        \n",
            "=================================================================\n",
            "Total params: 1,009,973\n",
            "Trainable params: 1,009,973\n",
            "Non-trainable params: 0\n",
            "_________________________________________________________________\n",
            "Epoch 1/10\n",
            "139/140 [============================>.] - ETA: 0s - loss: 0.3829 - accuracy: 0.8743WARNING:tensorflow:Can save best model only with val_acc available, skipping.\n",
            "140/140 [==============================] - 2s 17ms/step - loss: 0.3831 - accuracy: 0.8741 - val_loss: 0.1578 - val_accuracy: 0.9489\n",
            "Epoch 2/10\n",
            "138/140 [============================>.] - ETA: 0s - loss: 0.1103 - accuracy: 0.9633WARNING:tensorflow:Can save best model only with val_acc available, skipping.\n",
            "140/140 [==============================] - 2s 15ms/step - loss: 0.1097 - accuracy: 0.9637 - val_loss: 0.0573 - val_accuracy: 0.9839\n",
            "Epoch 3/10\n",
            "140/140 [==============================] - ETA: 0s - loss: 0.0375 - accuracy: 0.9816WARNING:tensorflow:Can save best model only with val_acc available, skipping.\n",
            "140/140 [==============================] - 2s 16ms/step - loss: 0.0375 - accuracy: 0.9816 - val_loss: 0.0470 - val_accuracy: 0.9839\n",
            "Epoch 4/10\n",
            "138/140 [============================>.] - ETA: 0s - loss: 0.0227 - accuracy: 0.9869WARNING:tensorflow:Can save best model only with val_acc available, skipping.\n",
            "140/140 [==============================] - 2s 15ms/step - loss: 0.0226 - accuracy: 0.9870 - val_loss: 0.0623 - val_accuracy: 0.9812\n",
            "Epoch 5/10\n",
            "139/140 [============================>.] - ETA: 0s - loss: 0.0172 - accuracy: 0.9879WARNING:tensorflow:Can save best model only with val_acc available, skipping.\n",
            "140/140 [==============================] - 2s 16ms/step - loss: 0.0171 - accuracy: 0.9879 - val_loss: 0.0624 - val_accuracy: 0.9830\n",
            "Epoch 6/10\n",
            "140/140 [==============================] - ETA: 0s - loss: 0.0111 - accuracy: 0.9910WARNING:tensorflow:Can save best model only with val_acc available, skipping.\n",
            "140/140 [==============================] - 2s 15ms/step - loss: 0.0111 - accuracy: 0.9910 - val_loss: 0.0715 - val_accuracy: 0.9848\n",
            "Epoch 7/10\n",
            "140/140 [==============================] - ETA: 0s - loss: 0.0121 - accuracy: 0.9886WARNING:tensorflow:Can save best model only with val_acc available, skipping.\n",
            "140/140 [==============================] - 2s 16ms/step - loss: 0.0121 - accuracy: 0.9886 - val_loss: 0.0677 - val_accuracy: 0.9830\n",
            "Epoch 00007: early stopping\n"
          ],
          "name": "stdout"
        }
      ]
    },
    {
      "cell_type": "code",
      "metadata": {
        "id": "5UC4BuuhSQP2",
        "colab_type": "code",
        "colab": {
          "base_uri": "https://localhost:8080/",
          "height": 67
        },
        "outputId": "bf002fc9-4fc4-4098-fb6c-c74e00fec565"
      },
      "source": [
        "\n",
        "print(\"\\n 테스트 정확도: %.4f\" % (model.evaluate(x_test, y_test)[1]))"
      ],
      "execution_count": 160,
      "outputs": [
        {
          "output_type": "stream",
          "text": [
            "35/35 [==============================] - 0s 2ms/step - loss: 0.0677 - accuracy: 0.9830\n",
            "\n",
            " 테스트 정확도: 0.9830\n"
          ],
          "name": "stdout"
        }
      ]
    },
    {
      "cell_type": "markdown",
      "metadata": {
        "id": "lgnluOAWe7jf",
        "colab_type": "text"
      },
      "source": [
        "생각보다 예측을 잘한다. \n"
      ]
    },
    {
      "cell_type": "code",
      "metadata": {
        "id": "0E6FIjX0fG8o",
        "colab_type": "code",
        "colab": {}
      },
      "source": [
        ""
      ],
      "execution_count": null,
      "outputs": []
    }
  ]
}